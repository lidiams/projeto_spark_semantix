{
 "cells": [
  {
   "cell_type": "markdown",
   "metadata": {},
   "source": [
    "### 2. Otimizar todos os dados do hdfs para uma tabela Hive particionada por município."
   ]
  },
  {
   "cell_type": "code",
   "execution_count": 415,
   "metadata": {},
   "outputs": [],
   "source": [
    "from pyspark.sql.functions import *\n",
    "from pyspark.sql.types import *"
   ]
  },
  {
   "cell_type": "code",
   "execution_count": 416,
   "metadata": {
    "scrolled": true
   },
   "outputs": [],
   "source": [
    "covid_br = spark.read.csv(\"/user/aluno/lidia/projeto_spark/*.csv\", sep = \";\", header = \"true\")"
   ]
  },
  {
   "cell_type": "code",
   "execution_count": null,
   "metadata": {},
   "outputs": [],
   "source": [
    "covid_br.write.mode(\"overwrite\").partitionBy(\"municipio\").saveAsTable(\"covid_br_municipio\")"
   ]
  },
  {
   "cell_type": "code",
   "execution_count": 12,
   "metadata": {},
   "outputs": [
    {
     "name": "stdout",
     "output_type": "stream",
     "text": [
      "Found 5299 items\r\n",
      "-rw-r--r--   2 root supergroup          0 2021-07-12 04:38 /user/hive/warehouse/covid_br_municipio/_SUCCESS\r\n",
      "drwxr-xr-x   - root supergroup          0 2021-07-12 04:34 /user/hive/warehouse/covid_br_municipio/municipio=Abadia de Goiás\r\n",
      "drwxr-xr-x   - root supergroup          0 2021-07-12 04:34 /user/hive/warehouse/covid_br_municipio/municipio=Abadia dos Dourados\r\n",
      "drwxr-xr-x   - root supergroup          0 2021-07-12 04:34 /user/hive/warehouse/covid_br_municipio/municipio=Abadiânia\r\n"
     ]
    }
   ],
   "source": [
    "!hdfs dfs -ls /user/hive/warehouse/covid_br_municipio | head -5"
   ]
  },
  {
   "cell_type": "markdown",
   "metadata": {},
   "source": [
    "### 3. Criar as 3 vizualizações pelo Spark com os dados enviados para o HDFS:"
   ]
  },
  {
   "cell_type": "markdown",
   "metadata": {},
   "source": [
    "#### Visualização 1"
   ]
  },
  {
   "cell_type": "code",
   "execution_count": 418,
   "metadata": {},
   "outputs": [],
   "source": [
    "recuperados = covid_br.withColumn(\"casos_recuperados\", col(\"Recuperadosnovos\").cast(IntegerType()))\\\n",
    ".withColumn(\"recuperados_em_acompanhamento\", col(\"emAcompanhamentoNovos\").cast(IntegerType()))"
   ]
  },
  {
   "cell_type": "code",
   "execution_count": 577,
   "metadata": {},
   "outputs": [],
   "source": [
    "recuperados_visualizacao = recuperados.groupBy(\"regiao\", \"data\")\\\n",
    ".agg(sum(\"casos_recuperados\").alias(\"casos_recuperados\"),\\\n",
    "     sum(\"recuperados_em_acompanhamento\").alias(\"em_acompanhamento\"))\\\n",
    ".where(col(\"regiao\") == \"Brasil\").where(col(\"data\") == \"2021-07-06\")"
   ]
  },
  {
   "cell_type": "code",
   "execution_count": 578,
   "metadata": {},
   "outputs": [
    {
     "name": "stdout",
     "output_type": "stream",
     "text": [
      "+-----------------+-----------------+\n",
      "|casos_recuperados|em_acompanhamento|\n",
      "+-----------------+-----------------+\n",
      "|         17262646|          1065477|\n",
      "+-----------------+-----------------+\n",
      "\n"
     ]
    }
   ],
   "source": [
    "recuperados_visualizacao.select(col(\"casos_recuperados\"), col(\"em_acompanhamento\")).show()"
   ]
  },
  {
   "cell_type": "markdown",
   "metadata": {},
   "source": [
    "#### Visualização 2"
   ]
  },
  {
   "cell_type": "code",
   "execution_count": 421,
   "metadata": {},
   "outputs": [],
   "source": [
    "confirmados = covid_br.withColumn(\"casos_acumulados\", col(\"casosAcumulado\").cast(IntegerType()))\\\n",
    ".withColumn(\"casos_novos\", col(\"casosNovos\").cast(IntegerType()))\\\n",
    ".withColumn(\"incidencia\", col(\"casosAcumulado\")/(col(\"populacaoTCU2019\")/100000).cast(FloatType()))"
   ]
  },
  {
   "cell_type": "code",
   "execution_count": 437,
   "metadata": {},
   "outputs": [],
   "source": [
    "confirmados_visualizacao = confirmados.groupBy(\"regiao\", \"data\")\\\n",
    ".agg(format_number(sum(\"casos_acumulados\"), 0).alias(\"casos_acumulados\")\\\n",
    "     , format_number(sum(\"casos_novos\"), 0).alias(\"casos_novos\")\\\n",
    "     , format_number(sum(\"incidencia\"), 1).alias(\"incidencia\"))\\\n",
    ".where(col(\"regiao\") == \"Brasil\").where(col(\"data\") == \"2021-07-06\")"
   ]
  },
  {
   "cell_type": "code",
   "execution_count": 438,
   "metadata": {},
   "outputs": [
    {
     "name": "stdout",
     "output_type": "stream",
     "text": [
      "CASOS CONFIRMADOS\n",
      "+----------------+-----------+----------+\n",
      "|casos_acumulados|casos_novos|incidencia|\n",
      "+----------------+-----------+----------+\n",
      "|      18,855,015|     62,504|   8,972.3|\n",
      "+----------------+-----------+----------+\n",
      "\n"
     ]
    }
   ],
   "source": [
    "print(\"CASOS CONFIRMADOS\")\n",
    "confirmados_visualizacao.select(col(\"casos_acumulados\"), col(\"casos_novos\"), col(\"incidencia\")).show()"
   ]
  },
  {
   "cell_type": "markdown",
   "metadata": {},
   "source": [
    "#### Visualização 3"
   ]
  },
  {
   "cell_type": "code",
   "execution_count": 424,
   "metadata": {},
   "outputs": [],
   "source": [
    "obitos = covid_br.withColumn(\"obitos_acumulados\", col(\"obitosAcumulado\").cast(IntegerType()))\\\n",
    ".withColumn(\"obitos_novos\", col(\"obitosNovos\").cast(IntegerType()))\\\n",
    ".withColumn(\"letalidade\", ((col(\"obitos_acumulados\")/col(\"casosAcumulado\"))*100).cast(FloatType()))\\\n",
    ".withColumn(\"mortalidade\", col(\"obitos_acumulados\")/(col(\"populacaoTCU2019\")/100000).cast(FloatType()))"
   ]
  },
  {
   "cell_type": "code",
   "execution_count": 579,
   "metadata": {},
   "outputs": [],
   "source": [
    "obitos_visualizacao = obitos.groupBy(\"regiao\", \"data\")\\\n",
    ".agg(format_number(sum(\"obitos_acumulados\"), 0).alias(\"obitos_acumulados\")\\\n",
    "     , format_number(sum(\"obitos_novos\"), 0).alias(\"obitos_novos\")\\\n",
    "     , format_number(sum(\"letalidade\"), 1).alias(\"letalidade\")\\\n",
    "     , format_number(sum(\"mortalidade\"), 1).alias(\"mortalidade\"))\\\n",
    ".where(col(\"data\") == \"2021-07-06\")"
   ]
  },
  {
   "cell_type": "code",
   "execution_count": 581,
   "metadata": {},
   "outputs": [
    {
     "name": "stdout",
     "output_type": "stream",
     "text": [
      "OBITOS CONFIRMADOS\n",
      "+-----------------+------------+----------+-----------+\n",
      "|obitos_acumulados|obitos_novos|letalidade|mortalidade|\n",
      "+-----------------+------------+----------+-----------+\n",
      "|          526,892|       1,780|       2.8|      250.7|\n",
      "+-----------------+------------+----------+-----------+\n",
      "\n"
     ]
    }
   ],
   "source": [
    "print(\"OBITOS CONFIRMADOS\")\n",
    "obitos_visualizacao.select(col(\"obitos_acumulados\"), col(\"obitos_novos\"), col(\"letalidade\"), col(\"mortalidade\")).where(col(\"regiao\") == \"Brasil\").show()"
   ]
  },
  {
   "cell_type": "markdown",
   "metadata": {},
   "source": [
    "### 4. Salvar a primeira visualização como tabela Hive"
   ]
  },
  {
   "cell_type": "code",
   "execution_count": 14,
   "metadata": {},
   "outputs": [],
   "source": [
    "recuperados_visualizacao.write.mode(\"overwrite\").format(\"orc\").saveAsTable(\"recuperados_covid\")"
   ]
  },
  {
   "cell_type": "code",
   "execution_count": 16,
   "metadata": {},
   "outputs": [
    {
     "name": "stdout",
     "output_type": "stream",
     "text": [
      "Found 201 items\r\n",
      "-rw-r--r--   2 root supergroup          0 2021-07-12 17:00 /user/hive/warehouse/recuperados_covid/_SUCCESS\r\n",
      "-rw-r--r--   2 root supergroup        795 2021-07-12 16:59 /user/hive/warehouse/recuperados_covid/part-00000-65f09cbf-eb10-45ea-b112-775c54148fd1-c000.snappy.orc\r\n",
      "-rw-r--r--   2 root supergroup        788 2021-07-12 16:59 /user/hive/warehouse/recuperados_covid/part-00001-65f09cbf-eb10-45ea-b112-775c54148fd1-c000.snappy.orc\r\n",
      "-rw-r--r--   2 root supergroup        809 2021-07-12 16:59 /user/hive/warehouse/recuperados_covid/part-00002-65f09cbf-eb10-45ea-b112-775c54148fd1-c000.snappy.orc\r\n"
     ]
    }
   ],
   "source": [
    "!hdfs dfs -ls /user/hive/warehouse/recuperados_covid | head -5"
   ]
  },
  {
   "cell_type": "markdown",
   "metadata": {},
   "source": [
    "### 5. Salvar a segunda visualização com formato parquet e compressão snappy"
   ]
  },
  {
   "cell_type": "code",
   "execution_count": 18,
   "metadata": {},
   "outputs": [],
   "source": [
    "confirmados_visualizacao.write.parquet(\"/user/aluno/lidia/projeto_spark/confirmados_covid\", compression=\"snappy\")"
   ]
  },
  {
   "cell_type": "code",
   "execution_count": 19,
   "metadata": {},
   "outputs": [
    {
     "name": "stdout",
     "output_type": "stream",
     "text": [
      "Found 201 items\r\n",
      "-rw-r--r--   2 root supergroup          0 2021-07-12 17:06 /user/aluno/lidia/projeto_spark/confirmados_covid/_SUCCESS\r\n",
      "-rw-r--r--   2 root supergroup       1880 2021-07-12 17:06 /user/aluno/lidia/projeto_spark/confirmados_covid/part-00000-84692cf8-efcb-4a42-af27-d99bcd8bdccf-c000.snappy.parquet\r\n",
      "-rw-r--r--   2 root supergroup       1875 2021-07-12 17:06 /user/aluno/lidia/projeto_spark/confirmados_covid/part-00001-84692cf8-efcb-4a42-af27-d99bcd8bdccf-c000.snappy.parquet\r\n",
      "-rw-r--r--   2 root supergroup       1880 2021-07-12 17:06 /user/aluno/lidia/projeto_spark/confirmados_covid/part-00002-84692cf8-efcb-4a42-af27-d99bcd8bdccf-c000.snappy.parquet\r\n"
     ]
    }
   ],
   "source": [
    "!hdfs dfs -ls /user/aluno/lidia/projeto_spark/confirmados_covid | head -5"
   ]
  },
  {
   "cell_type": "markdown",
   "metadata": {},
   "source": [
    "### 6. Salvar a terceira visualização em um tópico no Kafka"
   ]
  },
  {
   "cell_type": "code",
   "execution_count": 586,
   "metadata": {},
   "outputs": [],
   "source": [
    "obitos_visualizacao.selectExpr(\"CAST(regiao AS STRING) AS key\", \"to_json(struct(*)) AS value\")\\\n",
    ".write\\\n",
    ".format(\"kafka\") \\\n",
    ".option(\"kafka.bootstrap.servers\", \"kafka:9092\")\\\n",
    ".option(\"topic\",\"obitos_vi\") \\\n",
    ".save()"
   ]
  },
  {
   "cell_type": "markdown",
   "metadata": {},
   "source": [
    "### 7. Criar a visualização pelo Spark com os dados enviados para o HDFS:"
   ]
  },
  {
   "cell_type": "code",
   "execution_count": 375,
   "metadata": {},
   "outputs": [],
   "source": [
    "sintese_casos = covid_br.withColumn(\"casos_acumulados\", col(\"casosAcumulado\").cast(IntegerType()))\\\n",
    ".withColumn(\"obitos_acumulados\", col(\"obitosAcumulado\").cast(IntegerType()))\\\n",
    ".withColumn(\"populacao\", col(\"populacaoTCU2019\").cast(IntegerType()))\\"
   ]
  },
  {
   "cell_type": "code",
   "execution_count": 412,
   "metadata": {},
   "outputs": [],
   "source": [
    "sintese_visualizacao = sintese_casos.groupBy(\"data\", \"regiao\", \"codmun\")\\\n",
    ".agg(format_number(sum(\"casos_acumulados\"), 0).alias(\"casos\")\\\n",
    "     , format_number(sum(\"obitos_acumulados\"), 0).alias(\"obitos\")\\\n",
    "     , format_number(sum(\"populacao\"), 0).alias(\"populacao\")\\\n",
    "     , format_number((sum(\"casos_acumulados\")/(sum(\"populacao\") / 100000)), 1).alias(\"incidencia\")\\\n",
    "     , format_number((sum(\"obitos_acumulados\")/(sum(\"populacao\") / 100000)), 1).alias(\"mortalidade\"))\\\n",
    ".where(col(\"codmun\").isNull()).where(col(\"data\") == \"2021-07-06\")\\"
   ]
  },
  {
   "cell_type": "code",
   "execution_count": 427,
   "metadata": {},
   "outputs": [
    {
     "name": "stdout",
     "output_type": "stream",
     "text": [
      "Sintese de casos, obitos, incidencia e mortalidade\n",
      "+------------+----------+-------+----------+-----------+----------+\n",
      "|      regiao|     casos| obitos|incidencia|mortalidade|      data|\n",
      "+------------+----------+-------+----------+-----------+----------+\n",
      "|      Brasil|18,855,015|526,892|   8,972.3|      250.7|2021-07-06|\n",
      "|     Sudeste| 7,138,803|245,311|   8,078.2|      277.6|2021-07-06|\n",
      "|         Sul| 3,611,041| 80,705|  12,046.4|      269.2|2021-07-06|\n",
      "|Centro-Oeste| 1,916,619| 49,207|  11,760.5|      301.9|2021-07-06|\n",
      "|    Nordeste| 4,455,737|107,824|   7,807.3|      188.9|2021-07-06|\n",
      "|       Norte| 1,732,815| 43,845|   9,401.6|      237.9|2021-07-06|\n",
      "+------------+----------+-------+----------+-----------+----------+\n",
      "\n"
     ]
    }
   ],
   "source": [
    "print(\"Sintese de casos, obitos, incidencia e mortalidade\")\n",
    "sintese_visualizacao.select(col(\"regiao\"), col(\"casos\"), col(\"obitos\"), col(\"incidencia\"), col(\"mortalidade\"), col(\"data\")).show()"
   ]
  },
  {
   "cell_type": "markdown",
   "metadata": {},
   "source": [
    "## 8. Salvar a visualização do exercício 6 em um tópico no Elastic "
   ]
  },
  {
   "cell_type": "markdown",
   "metadata": {},
   "source": [
    "***em andamento ***"
   ]
  },
  {
   "cell_type": "code",
   "execution_count": 647,
   "metadata": {},
   "outputs": [],
   "source": [
    "topic_read = spark.read.format(\"kafka\").option(\"kafka.bootstrap.servers\",\"kafka:9092\").option(\"subscribe\",\"obitos_vi\").load()"
   ]
  },
  {
   "cell_type": "code",
   "execution_count": 648,
   "metadata": {
    "scrolled": true
   },
   "outputs": [
    {
     "name": "stdout",
     "output_type": "stream",
     "text": [
      "root\n",
      " |-- key: binary (nullable = true)\n",
      " |-- value: binary (nullable = true)\n",
      " |-- topic: string (nullable = true)\n",
      " |-- partition: integer (nullable = true)\n",
      " |-- offset: long (nullable = true)\n",
      " |-- timestamp: timestamp (nullable = true)\n",
      " |-- timestampType: integer (nullable = true)\n",
      "\n"
     ]
    }
   ],
   "source": [
    "topic_read.printSchema()"
   ]
  },
  {
   "cell_type": "code",
   "execution_count": 635,
   "metadata": {},
   "outputs": [
    {
     "name": "stdout",
     "output_type": "stream",
     "text": [
      "+--------------------+\n",
      "|               value|\n",
      "+--------------------+\n",
      "|{\"regiao\":\"Centro...|\n",
      "|{\"regiao\":\"Sul\",\"...|\n",
      "|{\"regiao\":\"Nordes...|\n",
      "|{\"regiao\":\"Sudest...|\n",
      "|{\"regiao\":\"Norte\"...|\n",
      "|{\"regiao\":\"Brasil...|\n",
      "+--------------------+\n",
      "\n"
     ]
    }
   ],
   "source": [
    "topic_string = topic_read.select(col(\"value\").cast(\"string\"))\n",
    "topic_string.show()"
   ]
  },
  {
   "cell_type": "code",
   "execution_count": null,
   "metadata": {},
   "outputs": [],
   "source": []
  }
 ],
 "metadata": {
  "kernelspec": {
   "display_name": "PySpark",
   "language": "python",
   "name": "pyspark"
  },
  "language_info": {
   "codemirror_mode": {
    "name": "ipython",
    "version": 3
   },
   "file_extension": ".py",
   "mimetype": "text/x-python",
   "name": "python",
   "nbconvert_exporter": "python",
   "pygments_lexer": "ipython3",
   "version": "3.6.10"
  }
 },
 "nbformat": 4,
 "nbformat_minor": 2
}
